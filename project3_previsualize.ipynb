{
 "cells": [
  {
   "cell_type": "code",
   "execution_count": 43,
   "metadata": {},
   "outputs": [],
   "source": [
    "from HMM import unsupervised_HMM\n",
    "\n",
    "from Utility import get_poem_sequence\n",
    "from HMM_helper import (\n",
    "    text_to_wordcloud,\n",
    "    states_to_wordclouds,\n",
    "    parse_observations,\n",
    "    sample_sentence,\n",
    "    visualize_sparsities,\n",
    "    animate_emission\n",
    ")"
   ]
  },
  {
   "cell_type": "code",
   "execution_count": 44,
   "metadata": {},
   "outputs": [
    {
     "name": "stdout",
     "output_type": "stream",
     "text": [
      "24 154 407 694 625 249 2\n"
     ]
    }
   ],
   "source": [
    "\n",
    "obs, obs_map = get_poem_sequence('data/shakespeare.txt', 'line')\n",
    "linenum = len(obs)\n",
    "wordsnum = []\n",
    "wordsnum_5= 0\n",
    "wordsnum_6= 0\n",
    "wordsnum_7= 0\n",
    "wordsnum_8= 0\n",
    "wordsnum_9= 0\n",
    "wordsnum_10= 0\n",
    "wordsnum_11 = 0\n",
    "for i in range(linenum):\n",
    "    wordsnum.append(len(obs[i]))\n",
    "    if len(obs[i]) ==5:\n",
    "        wordsnum_5 += 1\n",
    "    if len(obs[i]) ==6:\n",
    "        wordsnum_6 += 1    \n",
    "    if len(obs[i]) ==7:\n",
    "        wordsnum_7 += 1\n",
    "    if len(obs[i]) ==8:\n",
    "        wordsnum_8 += 1\n",
    "    if len(obs[i]) ==9:\n",
    "        wordsnum_9 += 1\n",
    "    if len(obs[i]) ==10:\n",
    "        wordsnum_10 += 1\n",
    "    if len(obs[i]) ==11:\n",
    "        wordsnum_11 += 1\n",
    "\n",
    "\n",
    "print(wordsnum_5,wordsnum_6,wordsnum_7,wordsnum_8,wordsnum_9,wordsnum_10,wordsnum_11)\n",
    "\n"
   ]
  },
  {
   "cell_type": "code",
   "execution_count": 45,
   "metadata": {},
   "outputs": [],
   "source": [
    "hmm8 = unsupervised_HMM(obs[:140],10 , 100,2019)"
   ]
  },
  {
   "cell_type": "code",
   "execution_count": 48,
   "metadata": {},
   "outputs": [
    {
     "name": "stdout",
     "output_type": "stream",
     "text": [
      "\n",
      "Sample Sentence:\n",
      "====================\n",
      "Heavenly murdrous husband beautys the art remembered...\n"
     ]
    }
   ],
   "source": [
    "print('\\nSample Sentence:\\n====================')\n",
    "print(sample_sentence(hmm8, obs_map, n_words=7))"
   ]
  },
  {
   "cell_type": "code",
   "execution_count": null,
   "metadata": {},
   "outputs": [],
   "source": []
  }
 ],
 "metadata": {
  "kernelspec": {
   "display_name": "Python 3",
   "language": "python",
   "name": "python3"
  },
  "language_info": {
   "codemirror_mode": {
    "name": "ipython",
    "version": 3
   },
   "file_extension": ".py",
   "mimetype": "text/x-python",
   "name": "python",
   "nbconvert_exporter": "python",
   "pygments_lexer": "ipython3",
   "version": "3.6.8"
  }
 },
 "nbformat": 4,
 "nbformat_minor": 2
}
