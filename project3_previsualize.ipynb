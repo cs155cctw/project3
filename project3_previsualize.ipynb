{
 "cells": [
  {
   "cell_type": "code",
   "execution_count": 41,
   "metadata": {},
   "outputs": [],
   "source": [
    "from HMM import unsupervised_HMM"
   ]
  },
  {
   "cell_type": "markdown",
   "metadata": {},
   "source": [
    "## 3 - Pre-processing"
   ]
  },
  {
   "cell_type": "code",
   "execution_count": 42,
   "metadata": {},
   "outputs": [
    {
     "ename": "SyntaxError",
     "evalue": "unexpected EOF while parsing (<ipython-input-42-50f3ed0b32f3>, line 34)",
     "output_type": "error",
     "traceback": [
      "\u001b[0;36m  File \u001b[0;32m\"<ipython-input-42-50f3ed0b32f3>\"\u001b[0;36m, line \u001b[0;32m34\u001b[0m\n\u001b[0;31m    print(obs_map['in']\u001b[0m\n\u001b[0m                       ^\u001b[0m\n\u001b[0;31mSyntaxError\u001b[0m\u001b[0;31m:\u001b[0m unexpected EOF while parsing\n"
     ]
    }
   ],
   "source": [
    "from Utility import get_poem_sequence\n",
    "\n",
    "obs, obs_map = get_poem_sequence('data/shakespeare.txt', 'line')\n",
    "linenum = len(obs)\n",
    "wordsnum = []\n",
    "wordsnum_5= 0\n",
    "wordsnum_6= 0\n",
    "wordsnum_7= 0\n",
    "wordsnum_8= 0\n",
    "wordsnum_9= 0\n",
    "wordsnum_10= 0\n",
    "wordsnum_11 = 0\n",
    "for i in range(linenum):\n",
    "    wordsnum.append(len(obs[i]))\n",
    "    if len(obs[i]) ==5:\n",
    "        wordsnum_5 += 1\n",
    "    if len(obs[i]) ==6:\n",
    "        wordsnum_6 += 1    \n",
    "    if len(obs[i]) ==7:\n",
    "        wordsnum_7 += 1\n",
    "    if len(obs[i]) ==8:\n",
    "        wordsnum_8 += 1\n",
    "    if len(obs[i]) ==9:\n",
    "        wordsnum_9 += 1\n",
    "    if len(obs[i]) ==10:\n",
    "        wordsnum_10 += 1\n",
    "    if len(obs[i]) ==11:\n",
    "        wordsnum_11 += 1\n",
    "\n",
    "\n",
    "print(wordsnum_5,wordsnum_6,wordsnum_7,wordsnum_8,wordsnum_9,wordsnum_10,wordsnum_11)\n",
    "\n",
    "hmm8 = unsupervised_HMM(obs[:140],100 , 100,2019)"
   ]
  }
 ],
 "metadata": {
  "kernelspec": {
   "display_name": "Python 3",
   "language": "python",
   "name": "python3"
  },
  "language_info": {
   "codemirror_mode": {
    "name": "ipython",
    "version": 3
   },
   "file_extension": ".py",
   "mimetype": "text/x-python",
   "name": "python",
   "nbconvert_exporter": "python",
   "pygments_lexer": "ipython3",
   "version": "3.6.8"
  }
 },
 "nbformat": 4,
 "nbformat_minor": 2
}
