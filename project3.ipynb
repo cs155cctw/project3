{
 "cells": [
  {
   "cell_type": "code",
   "execution_count": 31,
   "metadata": {},
   "outputs": [],
   "source": [
    "from HMM import unsupervised_HMM, supervised_HMM, merge_HMM\n",
    "import matplotlib.pyplot as plt\n",
    "import numpy as np\n",
    "from HMM_helper import (\n",
    "    text_to_wordcloud,\n",
    "    states_to_wordclouds,\n",
    "    parse_observations,\n",
    "    sample_sentence,\n",
    "    sample_sentence_rythme,\n",
    "    sample_sentence_multipleModel,\n",
    "    sample_sentence_multipleModel_rythme,\n",
    "    visualize_sparsities,\n",
    "    animate_emission\n",
    ")"
   ]
  },
  {
   "cell_type": "markdown",
   "metadata": {},
   "source": [
    "## 3 - Pre-processing"
   ]
  },
  {
   "cell_type": "code",
   "execution_count": 2,
   "metadata": {},
   "outputs": [
    {
     "name": "stdout",
     "output_type": "stream",
     "text": [
      "1\n"
     ]
    }
   ],
   "source": [
    "from Utility import get_poem_sequence\n",
    "\n",
    "obs, obs_Y, obs_map = get_poem_sequence('data/shakespeare3.txt', 'line', 'reverse')\n",
    "\n",
    "#print(obs[:10])\n",
    "#print(obs_Y[:10])\n",
    "#print(obs_map['perish_E1'])\n",
    "#print(obs_map)\n"
   ]
  },
  {
   "cell_type": "code",
   "execution_count": 3,
   "metadata": {},
   "outputs": [],
   "source": [
    "from Utility import get_rhyme_pair\n",
    "pairs_endofline = get_rhyme_pair(obs)\n",
    "#print(pairs_endofline)"
   ]
  },
  {
   "cell_type": "code",
   "execution_count": 49,
   "metadata": {},
   "outputs": [
    {
     "name": "stdout",
     "output_type": "stream",
     "text": [
      "[9.1500e+02 1.2825e+04 7.0600e+02 1.8590e+03 6.0000e+00 2.0100e+02\n",
      " 2.4000e+02 1.3000e+01 4.7000e+01 6.0000e+00 5.4300e+02 2.7750e+03]\n"
     ]
    }
   ],
   "source": [
    "count_Y = np.zeros(12)\n",
    "for iobs in obs_Y:\n",
    "    for iiobs in iobs:\n",
    "        count_Y[iiobs] += 1\n",
    "print(count_Y)"
   ]
  },
  {
   "cell_type": "markdown",
   "metadata": {},
   "source": [
    "## 5 - Poetry generation, part I - HMM (from HW6)"
   ]
  },
  {
   "cell_type": "code",
   "execution_count": 13,
   "metadata": {},
   "outputs": [],
   "source": [
    "hmm_supervise = supervised_HMM(obs, obs_Y)"
   ]
  },
  {
   "cell_type": "code",
   "execution_count": 35,
   "metadata": {},
   "outputs": [
    {
     "name": "stdout",
     "output_type": "stream",
     "text": [
      "Iteration: 10\n",
      "Iteration: 20\n",
      "Iteration: 30\n",
      "Iteration: 40\n",
      "Iteration: 50\n",
      "Iteration: 60\n",
      "Iteration: 70\n",
      "Iteration: 80\n",
      "Iteration: 90\n",
      "Iteration: 100\n",
      "Iteration: 10\n",
      "Iteration: 20\n",
      "Iteration: 30\n",
      "Iteration: 40\n",
      "Iteration: 50\n",
      "Iteration: 60\n",
      "Iteration: 70\n",
      "Iteration: 80\n",
      "Iteration: 90\n",
      "Iteration: 100\n",
      "Iteration: 10\n",
      "Iteration: 20\n",
      "Iteration: 30\n",
      "Iteration: 40\n",
      "Iteration: 50\n",
      "Iteration: 60\n",
      "Iteration: 70\n",
      "Iteration: 80\n",
      "Iteration: 90\n",
      "Iteration: 100\n",
      "Iteration: 10\n",
      "Iteration: 20\n",
      "Iteration: 30\n",
      "Iteration: 40\n",
      "Iteration: 50\n",
      "Iteration: 60\n",
      "Iteration: 70\n",
      "Iteration: 80\n",
      "Iteration: 90\n",
      "Iteration: 100\n",
      "Iteration: 10\n",
      "Iteration: 20\n",
      "Iteration: 30\n",
      "Iteration: 40\n",
      "Iteration: 50\n",
      "Iteration: 60\n",
      "Iteration: 70\n",
      "Iteration: 80\n",
      "Iteration: 90\n",
      "Iteration: 100\n"
     ]
    }
   ],
   "source": [
    "hmm3_1 = unsupervised_HMM(obs, 3, 100, 2019)\n",
    "hmm3_2 = unsupervised_HMM(obs, 3, 100, 3019)\n",
    "hmm3_3 = unsupervised_HMM(obs, 3, 100, 4019)\n",
    "hmm3_4 = unsupervised_HMM(obs, 3, 100, 5019)\n",
    "hmm3_5 = unsupervised_HMM(obs, 3, 100, 6019)"
   ]
  },
  {
   "cell_type": "code",
   "execution_count": 37,
   "metadata": {},
   "outputs": [],
   "source": [
    "hmm3_average = merge_HMM([hmm3_1, hmm3_2, hmm3_3, hmm3_4, hmm3_5])"
   ]
  },
  {
   "cell_type": "code",
   "execution_count": 5,
   "metadata": {},
   "outputs": [
    {
     "name": "stdout",
     "output_type": "stream",
     "text": [
      "Iteration: 10\n",
      "Iteration: 20\n",
      "Iteration: 30\n",
      "Iteration: 40\n",
      "Iteration: 50\n",
      "Iteration: 60\n",
      "Iteration: 70\n",
      "Iteration: 80\n",
      "Iteration: 90\n",
      "Iteration: 100\n"
     ]
    }
   ],
   "source": [
    "hmm5_1 = unsupervised_HMM(obs, 5, 100, 2019)"
   ]
  },
  {
   "cell_type": "code",
   "execution_count": 6,
   "metadata": {},
   "outputs": [
    {
     "name": "stdout",
     "output_type": "stream",
     "text": [
      "Iteration: 10\n",
      "Iteration: 20\n",
      "Iteration: 30\n",
      "Iteration: 40\n",
      "Iteration: 50\n",
      "Iteration: 60\n",
      "Iteration: 70\n",
      "Iteration: 80\n",
      "Iteration: 90\n",
      "Iteration: 100\n",
      "Iteration: 10\n",
      "Iteration: 20\n",
      "Iteration: 30\n",
      "Iteration: 40\n",
      "Iteration: 50\n",
      "Iteration: 60\n",
      "Iteration: 70\n",
      "Iteration: 80\n",
      "Iteration: 90\n",
      "Iteration: 100\n",
      "Iteration: 10\n",
      "Iteration: 20\n",
      "Iteration: 30\n",
      "Iteration: 40\n",
      "Iteration: 50\n",
      "Iteration: 60\n",
      "Iteration: 70\n",
      "Iteration: 80\n",
      "Iteration: 90\n",
      "Iteration: 100\n",
      "Iteration: 10\n",
      "Iteration: 20\n",
      "Iteration: 30\n",
      "Iteration: 40\n",
      "Iteration: 50\n",
      "Iteration: 60\n",
      "Iteration: 70\n",
      "Iteration: 80\n",
      "Iteration: 90\n",
      "Iteration: 100\n"
     ]
    }
   ],
   "source": [
    "hmm5_2 = unsupervised_HMM(obs, 5, 100, 3019)\n",
    "hmm5_3 = unsupervised_HMM(obs, 5, 100, 4019)\n",
    "hmm5_4 = unsupervised_HMM(obs, 5, 100, 5019)\n",
    "hmm5_5 = unsupervised_HMM(obs, 5, 100, 6019)"
   ]
  },
  {
   "cell_type": "code",
   "execution_count": 9,
   "metadata": {},
   "outputs": [],
   "source": [
    "hmm5_average = merge_HMM([hmm5_1, hmm5_2, hmm5_3, hmm5_4, hmm5_5])"
   ]
  },
  {
   "cell_type": "code",
   "execution_count": 17,
   "metadata": {},
   "outputs": [
    {
     "name": "stdout",
     "output_type": "stream",
     "text": [
      "Iteration: 10\n",
      "Iteration: 20\n",
      "Iteration: 30\n",
      "Iteration: 40\n",
      "Iteration: 50\n",
      "Iteration: 60\n",
      "Iteration: 70\n",
      "Iteration: 80\n",
      "Iteration: 90\n",
      "Iteration: 100\n",
      "Iteration: 10\n",
      "Iteration: 20\n",
      "Iteration: 30\n",
      "Iteration: 40\n",
      "Iteration: 50\n",
      "Iteration: 60\n",
      "Iteration: 70\n",
      "Iteration: 80\n",
      "Iteration: 90\n",
      "Iteration: 100\n",
      "Iteration: 10\n",
      "Iteration: 20\n",
      "Iteration: 30\n",
      "Iteration: 40\n",
      "Iteration: 50\n",
      "Iteration: 60\n",
      "Iteration: 70\n",
      "Iteration: 80\n",
      "Iteration: 90\n",
      "Iteration: 100\n",
      "Iteration: 10\n",
      "Iteration: 20\n",
      "Iteration: 30\n",
      "Iteration: 40\n",
      "Iteration: 50\n",
      "Iteration: 60\n",
      "Iteration: 70\n",
      "Iteration: 80\n",
      "Iteration: 90\n",
      "Iteration: 100\n",
      "Iteration: 10\n",
      "Iteration: 20\n",
      "Iteration: 30\n",
      "Iteration: 40\n",
      "Iteration: 50\n",
      "Iteration: 60\n",
      "Iteration: 70\n",
      "Iteration: 80\n",
      "Iteration: 90\n",
      "Iteration: 100\n"
     ]
    }
   ],
   "source": [
    "hmm10_1 = unsupervised_HMM(obs, 10, 100, 2019)\n",
    "hmm10_2 = unsupervised_HMM(obs, 10, 100, 3019)\n",
    "hmm10_3 = unsupervised_HMM(obs, 10, 100, 4019)\n",
    "hmm10_4 = unsupervised_HMM(obs, 10, 100, 5019)\n",
    "hmm10_5 = unsupervised_HMM(obs, 10, 100, 6019)"
   ]
  },
  {
   "cell_type": "code",
   "execution_count": 21,
   "metadata": {},
   "outputs": [],
   "source": [
    "hmm10_average = merge_HMM([hmm10_1, hmm10_2, hmm10_3, hmm10_4, hmm10_5])"
   ]
  },
  {
   "cell_type": "code",
   "execution_count": 16,
   "metadata": {},
   "outputs": [
    {
     "name": "stdout",
     "output_type": "stream",
     "text": [
      "Iteration: 10\n",
      "Iteration: 20\n",
      "Iteration: 30\n",
      "Iteration: 40\n",
      "Iteration: 50\n",
      "Iteration: 60\n",
      "Iteration: 70\n",
      "Iteration: 80\n",
      "Iteration: 90\n",
      "Iteration: 100\n"
     ]
    }
   ],
   "source": [
    "hmm15_1 = unsupervised_HMM(obs, 15, 100, 2019)"
   ]
  },
  {
   "cell_type": "code",
   "execution_count": 43,
   "metadata": {},
   "outputs": [
    {
     "name": "stdout",
     "output_type": "stream",
     "text": [
      "Iteration: 10\n",
      "Iteration: 20\n",
      "Iteration: 30\n",
      "Iteration: 40\n",
      "Iteration: 50\n",
      "Iteration: 60\n",
      "Iteration: 70\n",
      "Iteration: 80\n",
      "Iteration: 90\n",
      "Iteration: 100\n",
      "Iteration: 10\n",
      "Iteration: 20\n",
      "Iteration: 30\n",
      "Iteration: 40\n",
      "Iteration: 50\n",
      "Iteration: 60\n",
      "Iteration: 70\n",
      "Iteration: 80\n",
      "Iteration: 90\n",
      "Iteration: 100\n",
      "Iteration: 10\n",
      "Iteration: 20\n",
      "Iteration: 30\n",
      "Iteration: 40\n",
      "Iteration: 50\n",
      "Iteration: 60\n",
      "Iteration: 70\n",
      "Iteration: 80\n",
      "Iteration: 90\n",
      "Iteration: 100\n",
      "Iteration: 10\n",
      "Iteration: 20\n",
      "Iteration: 30\n",
      "Iteration: 40\n",
      "Iteration: 50\n",
      "Iteration: 60\n",
      "Iteration: 70\n",
      "Iteration: 80\n",
      "Iteration: 90\n",
      "Iteration: 100\n"
     ]
    }
   ],
   "source": [
    "hmm15_2 = unsupervised_HMM(obs, 15, 100, 3019)\n",
    "hmm15_3 = unsupervised_HMM(obs, 15, 100, 4019)\n",
    "hmm15_4 = unsupervised_HMM(obs, 15, 100, 5019)\n",
    "hmm15_5 = unsupervised_HMM(obs, 15, 100, 6019)"
   ]
  },
  {
   "cell_type": "code",
   "execution_count": 44,
   "metadata": {},
   "outputs": [],
   "source": [
    "hmm15_average = merge_HMM([hmm15_1, hmm15_2, hmm15_3, hmm15_4, hmm15_5])"
   ]
  },
  {
   "cell_type": "code",
   "execution_count": 11,
   "metadata": {},
   "outputs": [],
   "source": [
    "#print(sample_sentence_rythme(hmm10, obs_map, pairs_endofline, print_syllable = False, n_syllable = 10))"
   ]
  },
  {
   "cell_type": "code",
   "execution_count": 47,
   "metadata": {},
   "outputs": [
    {
     "name": "stdout",
     "output_type": "stream",
     "text": [
      "Generating poem... 0\n",
      "==============================\n",
      "Call wert shall see her cherubins leave more\n",
      "Substance in turn shape walks uncertain leave\n",
      "Win thy never lose summers me before\n",
      "Whence of love faith still begin all deceive\n",
      "Let shake ransom to travel feeding where\n",
      "Do fair mine think thence  the loss but loves is\n",
      "Is that form correct  and nothing sweet clear\n",
      "And world conceit with love spend their a his\n",
      "Thee worth better no plague flowers stay life hooks\n",
      "For can see thou to self eternity\n",
      "For it  the murdrous dost blind is drawn looks\n",
      "Heats live sway among lie vow canopy\n",
      "Earth swallowed becomes the nothing thy leaves\n",
      "Is but more confined thy thou thine be sheaves\n",
      "\n",
      "Generating poem... 1\n",
      "==============================\n",
      "In to him in the gift and palate hate\n",
      "Thee so each but why times i so world  this\n",
      "Flower gored forth ? sing against and advocate\n",
      "Knows in thee  the eye slow for joy amiss\n",
      "To to thou i to beams all past decays\n",
      "That so can confined make precious leap good\n",
      "Desire  the to right fortunes all their days\n",
      "O being words remembrance not my blood\n",
      "Love traffic too  can other one power thing\n",
      "His two  her which fear say not him with glass\n",
      "Heats  too t state dumb love with  or to ! all spring\n",
      "Even fairest flourish blunter by luck was\n",
      "And oersways  heart or me if legacy\n",
      "Frown friends world pipe abundant all at free\n",
      "\n",
      "Generating poem... 2\n",
      "==============================\n",
      "Is is let  it ten  self  dare him all sight\n",
      "Glance with with from that in have help kind you\n",
      "Soundless love him one be sing not air light\n",
      "False riot say thy thee own muse in grew\n",
      "Conceit increase and worse lives remembered\n",
      "Lies lest tend moan not to sun counterfeit\n",
      "Now filled divert if nor seconds threw dead\n",
      "Heavenly my kill spend as still engraft set\n",
      "Kind that nature i buriest discontent\n",
      "Worse break long but world  worth selfdoing i\n",
      "Of and fire who greater a me the thou bent\n",
      "If born my them am thee deeds name thine lie\n",
      "Sauces warmed then and by the where though you\n",
      "Two illwresting begin wind of untrue\n",
      "\n",
      "Generating poem... 3\n",
      "==============================\n",
      "Of that sum  the freezings oertake doth  say\n",
      "Our you to doth crooked thine by defence\n",
      "And issue my from side to  time by lay\n",
      "Good dost huge thee cause beautys thou being hence\n",
      "Though in and is fine shadows discontent\n",
      "Every eye me a let all if in eye\n",
      "Say than thee i nor soul sums give tell bent\n",
      "Heats as despite his with makst majesty\n",
      "Which  anon and seeming did end i cross\n",
      "Whilst disposed time dressing still privilege\n",
      "Angel speak and untrimmed found afterloss\n",
      "Hence thee i hang note his thy  have i edge\n",
      "Heats glazed he motion then as days leaves\n",
      "Thoughts shall thou which it lines of night the sheaves\n",
      "\n",
      "Generating poem... 4\n",
      "==============================\n",
      "Are all thee all doth thy by those thine mine\n",
      "Through infection : thou others memory\n",
      "Methinks thou mine tender may me define\n",
      "League sing as woe and in he fortify\n",
      "But thee seeting  by thou that i err child\n",
      "Swear be  sort from a thy me night bower mine\n",
      "Towards  free for when i of is in beguiled\n",
      "Thy as to beauty they that for that line\n",
      "Alive while sorrows both as for renewed\n",
      "Know sun but thy the by that that afloat\n",
      "Sealed sad thy most your since wilt we subdued\n",
      "Looking for but but thou only thee boat\n",
      "Interim mine thee world gift  thy married where\n",
      "Spendst things wrinkle wait their thy be then there\n",
      "\n",
      "Generating poem... 5\n",
      "==============================\n",
      "Against i frame  each with can constancy\n",
      "Every matter all how brought uprear eyes\n",
      "And this flesh it song not hide chide and see\n",
      "So and me see not increasing steal cries\n",
      "Satire then that determination i\n",
      "Many i fair and judgments fortunes i they\n",
      "Our silvered breast far usurer the be\n",
      "For face have a the from in not with say\n",
      "In holds my although and shall where heaven side\n",
      "Flowers fight live a my rose all her no ? set\n",
      "And wish soul will in praise our neck pride\n",
      "Playst now thought some all poor  with counterfeit\n",
      "Days homage o even muse intermixed\n",
      "Love and graven thou old my afar fixed\n",
      "\n",
      "Generating poem... 6\n",
      "==============================\n",
      "Vices thousand i ? none that is thee i\n",
      "Lo so hand vow sweetest day against skill\n",
      "Stealing ever thus rhyme you from that lie\n",
      "Know the thy those : and very not name ill\n",
      "For so the of  of night antiquity\n",
      "Tincture as breast elements away place\n",
      "Good of book one no much iniquity\n",
      "Mine kept sing and this farther have gainst face\n",
      "Enough the loves swayst thou first true remain\n",
      "Glad dumb whose in well thou if fair possessed\n",
      "Loves by would true him thy  of was i twain\n",
      "Sweets state used thou grace thou  dignifies least\n",
      "My which his bier tongue sightless but with too\n",
      "Duteous modern took me glance thou and do\n",
      "\n",
      "Generating poem... 7\n",
      "==============================\n",
      "Redeem creation time mine horse of on\n",
      "So is rehearse  come deeds posterity\n",
      "That in so my a as my thyself gone\n",
      "Veins numbers sound why in  and enmity\n",
      "Your as  fade on here i anticipate\n",
      "My above first virtue come so away\n",
      "And strongly unlooked let my absence state\n",
      "Which  i on grow a judgment to not play\n",
      "Best for use did bounteous be answer it\n",
      "Heats proud i her ? blood dancing did thy earth\n",
      "To thou thee even then to ? and of woe it\n",
      "Up of thou doth now thine work in the dearth\n",
      "Comfort thee for told me brow other heaven\n",
      "That added not  and very and even\n",
      "\n",
      "Generating poem... 8\n",
      "==============================\n",
      "But saw steeled kings my life them of chase look\n",
      "Since as breath his to lest uphold repay\n",
      "Vouchsafe self of the none whose thee thou took\n",
      "Keeps weeds is thine be rider fair not day\n",
      "Lives here thy with to already way moan\n",
      "Till woo to make a desperate hold confounds\n",
      "Heats should leaves thou air thee is can upon\n",
      "Heavens live shall title thy of drown ill sounds\n",
      "Me me as bound still  thy in found forsworn\n",
      "With it straight  the mounted user else love\n",
      "And sequent for you thee beauties way scorn\n",
      "Since you eyes to in eternal to prove\n",
      "Bath th with there showing beauty needs wilt not\n",
      "Towards you more mock what walls better death plot\n",
      "\n",
      "Generating poem... 9\n",
      "==============================\n",
      "Dear as lends feeds that  i thee everywhere\n",
      "Outgoing now store this what enrich got\n",
      "Or heart composition strange shalt : pomp year\n",
      "Have  fear this knows see why asleep is blot\n",
      "Heart my amiss thou on alack fruit life\n",
      "Of flowers not therefore hath lest hope but me\n",
      "In and my true the it so show thee knife\n",
      "Shame in a but but again it thou thee\n",
      "Hide one crooked hand liberty self hearts\n",
      "Heats at vow when own that thy sweet sweet this\n",
      "Heats  and sullen of slandered will but parts\n",
      "Crying pluck note to feeding eye eye kiss\n",
      "Whether though being sunk is thee thou of is gone\n",
      "Am her and thy but steal  near show alone\n",
      "\n"
     ]
    }
   ],
   "source": [
    "for ipoem in range(10):\n",
    "    print(\"Generating poem... \"+str(ipoem))\n",
    "    print(\"==============================\")\n",
    "    pairs_1to7 = []\n",
    "    poemfilename = 'poems.txt'\n",
    "    for idx in range(7):\n",
    "        line1, line2 = sample_sentence_multipleModel_rythme([hmm_supervise, hmm15_average], obs_map, pairs_endofline, print_syllable = False, n_syllable=10)\n",
    "        #line1, line2 = sample_sentence_rythme(hmm15_average, obs_map, pairs_endofline, print_syllable = False, n_syllable = 10)\n",
    "        pairs_1to7.append(line1.replace(',','').replace('.',''))\n",
    "        pairs_1to7.append(line2.replace(',','').replace('.',''))\n",
    "    print(\"==========supervise, HMM15_seed{2,3,4,5,6}019_iter100================\", file=open(poemfilename, 'a'))\n",
    "    for idx in range(3):\n",
    "        print(pairs_1to7[4*idx], file=open(poemfilename, 'a'))\n",
    "        print(pairs_1to7[4*idx+2], file=open(poemfilename, 'a'))\n",
    "        print(pairs_1to7[4*idx+1], file=open(poemfilename, 'a'))\n",
    "        print(pairs_1to7[4*idx+3], file=open(poemfilename, 'a'))\n",
    "\n",
    "        print(pairs_1to7[4*idx])\n",
    "        print(pairs_1to7[4*idx+2])\n",
    "        print(pairs_1to7[4*idx+1])\n",
    "        print(pairs_1to7[4*idx+3])\n",
    "    print(pairs_1to7[12], file=open(poemfilename, 'a'))\n",
    "    print(pairs_1to7[13], file=open(poemfilename, 'a'))\n",
    "    print(pairs_1to7[12])\n",
    "    print(pairs_1to7[13])\n",
    "    print('')\n",
    "    print('   ', file=open(poemfilename, 'a'))"
   ]
  },
  {
   "cell_type": "code",
   "execution_count": 55,
   "metadata": {},
   "outputs": [
    {
     "data": {
      "image/png": "[encoded data removed]",
      "text/plain": [
       "<Figure size 432x288 with 1 Axes>"
      ]
     },
     "metadata": {
      "needs_background": "light"
     },
     "output_type": "display_data"
    }
   ],
   "source": [
    "from HMM_helper import obs_map_reverser, mask\n",
    "from wordcloud import WordCloud\n",
    "\n",
    "def text_to_wordcloud2(text, max_words=50, filename = 'test', title='', show=True):\n",
    "    plt.close('all')\n",
    "\n",
    "    # Generate a wordcloud image.\n",
    "    wordcloud = WordCloud(random_state=0,\n",
    "                          max_words=max_words,\n",
    "                          background_color='white',\n",
    "                          mask=mask()).generate(text)\n",
    "\n",
    "    # Show the image.\n",
    "    if show:\n",
    "        plt.imshow(wordcloud, interpolation='bilinear')\n",
    "        plt.axis('off')\n",
    "        plt.title(title, fontsize=24)\n",
    "        plt.savefig('plots/'+filename+'.pdf')\n",
    "        plt.savefig('plots/'+filename+'.png')\n",
    "        #plt.show()\n",
    "\n",
    "    return wordcloud\n",
    "\n",
    "def states_to_wordclouds2(hmm, obs_map, max_words=50, show=True, modelname='hmm'):\n",
    "    # Initialize.\n",
    "    M = 100000\n",
    "    n_states = len(hmm.A)\n",
    "    obs_map_r = obs_map_reverser(obs_map)\n",
    "    wordclouds = []\n",
    "\n",
    "    # Generate a large emission.\n",
    "    emission, states = hmm.generate_emission_nWords(M)\n",
    "\n",
    "    # For each state, get a list of observations that have been emitted\n",
    "    # from that state.\n",
    "    obs_count = []\n",
    "    for i in range(n_states):\n",
    "        obs_lst = np.array(emission)[np.where(np.array(states) == i)[0]]\n",
    "        obs_count.append(obs_lst)\n",
    "\n",
    "    # For each state, convert it into a wordcloud.\n",
    "    for i in range(n_states):\n",
    "        obs_lst = obs_count[i]\n",
    "        sentence = [obs_map_r[j] for j in obs_lst]\n",
    "        sentence_str = ' '.join(sentence)\n",
    "\n",
    "        wordclouds.append(text_to_wordcloud2(sentence_str, max_words=max_words, filename=modelname+'_state'+str(i), title='State %d' % i, show=show))\n",
    "\n",
    "    return wordclouds\n",
    "\n",
    "\n",
    "\n",
    "wordclouds_hmm10_average = states_to_wordclouds2(hmm15_2, obs_map, modelname='hmm15')"
   ]
  },
  {
   "cell_type": "code",
   "execution_count": 84,
   "metadata": {},
   "outputs": [
    {
     "name": "stdout",
     "output_type": "stream",
     "text": [
      "   &   0 &   1 &   2 &   3 &   4 &   5 &   6 &   7 &   8 &   9 \\\\\n",
      " 0 &0.00 &0.00 &0.00 &0.00 &0.00 &0.00 &0.00 &0.01 &0.25 &0.74 \\\\\n",
      " 1 &0.00 &0.00 &0.00 &0.87 &0.13 &0.00 &0.00 &0.00 &0.00 &0.00 \\\\\n",
      " 2 &0.00 &0.86 &0.13 &0.00 &0.00 &0.00 &0.01 &0.00 &0.00 &0.00 \\\\\n",
      " 3 &0.02 &0.00 &0.26 &0.01 &0.00 &0.22 &0.00 &0.00 &0.49 &0.00 \\\\\n",
      " 4 &0.00 &0.00 &0.00 &0.00 &0.00 &0.00 &0.00 &0.00 &0.15 &0.85 \\\\\n",
      " 5 &0.05 &0.00 &0.00 &0.00 &0.00 &0.10 &0.85 &0.00 &0.00 &0.00 \\\\\n",
      " 6 &0.00 &0.05 &0.30 &0.00 &0.00 &0.65 &0.00 &0.00 &0.00 &0.00 \\\\\n",
      " 7 &0.00 &0.00 &0.00 &0.00 &0.00 &0.00 &0.00 &0.00 &0.12 &0.88 \\\\\n",
      " 8 &0.00 &0.00 &0.21 &0.00 &0.00 &0.71 &0.08 &0.00 &0.00 &0.00 \\\\\n",
      " 9 &0.00 &0.11 &0.31 &0.57 &0.00 &0.00 &0.01 &0.00 &0.00 &0.00 \\\\\n",
      "   &   0 &   1 &   2 &   3 &   4 &   5 &   6 &   7 &   8 &   9 \\\\\n",
      " 0 &0.00 &0.03 &0.14 &0.16 &0.13 &0.00 &0.05 &0.00 &0.25 &0.24 \\\\\n",
      " 1 &0.17 &0.00 &0.05 &0.17 &0.04 &0.21 &0.23 &0.00 &0.12 &0.00 \\\\\n",
      " 2 &0.00 &0.34 &0.07 &0.05 &0.00 &0.20 &0.15 &0.18 &0.00 &0.00 \\\\\n",
      " 3 &0.29 &0.00 &0.05 &0.00 &0.17 &0.08 &0.00 &0.00 &0.19 &0.22 \\\\\n",
      " 4 &0.17 &0.00 &0.23 &0.05 &0.00 &0.03 &0.12 &0.00 &0.05 &0.35 \\\\\n",
      " 5 &0.06 &0.09 &0.09 &0.04 &0.00 &0.06 &0.21 &0.28 &0.16 &0.01 \\\\\n",
      " 6 &0.43 &0.01 &0.10 &0.10 &0.03 &0.18 &0.07 &0.00 &0.07 &0.00 \\\\\n",
      " 7 &0.08 &0.18 &0.11 &0.00 &0.00 &0.09 &0.00 &0.12 &0.02 &0.38 \\\\\n",
      " 8 &0.23 &0.00 &0.14 &0.15 &0.02 &0.29 &0.17 &0.00 &0.00 &0.00 \\\\\n",
      " 9 &0.00 &0.29 &0.34 &0.12 &0.00 &0.08 &0.13 &0.00 &0.05 &0.00 \\\\\n"
     ]
    }
   ],
   "source": [
    "def printMatrix(mat):\n",
    "    print(\"  \", end = \" \")\n",
    "    for idx2 in range(len(mat[0])):\n",
    "        print(\"&%4d\"%idx2, end = \" \")\n",
    "    print(\"\\\\\\\\\")\n",
    "    for idx1 in range(len(mat)):\n",
    "        print(\"%2d\"%idx1, end = \" \")\n",
    "        for idx2 in range(len(mat[0])):\n",
    "            print(\"&%.2f\"%mat[idx1][idx2], end =\" \")\n",
    "        print(\"\\\\\\\\\")\n",
    "printMatrix(hmm10_1.A)\n",
    "\n",
    "printMatrix(hmm10_average.A)"
   ]
  },
  {
   "cell_type": "markdown",
   "metadata": {},
   "source": [
    "## 6 - Poetry generation, part II - RNN"
   ]
  },
  {
   "cell_type": "code",
   "execution_count": null,
   "metadata": {},
   "outputs": [],
   "source": []
  },
  {
   "cell_type": "code",
   "execution_count": null,
   "metadata": {},
   "outputs": [],
   "source": []
  }
 ],
 "metadata": {
  "kernelspec": {
   "display_name": "Python 3",
   "language": "python",
   "name": "python3"
  },
  "language_info": {
   "codemirror_mode": {
    "name": "ipython",
    "version": 3
   },
   "file_extension": ".py",
   "mimetype": "text/x-python",
   "name": "python",
   "nbconvert_exporter": "python",
   "pygments_lexer": "ipython3",
   "version": "3.7.1"
  }
 },
 "nbformat": 4,
 "nbformat_minor": 2
}
