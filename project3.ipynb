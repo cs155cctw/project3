{
 "cells": [
  {
   "cell_type": "code",
   "execution_count": 4,
   "metadata": {},
   "outputs": [],
   "source": [
    "from HMM import unsupervised_HMM, supervised_HMM\n",
    "import matplotlib as plt\n",
    "import numpy as np\n",
    "from HMM_helper import (\n",
    "    text_to_wordcloud,\n",
    "    states_to_wordclouds,\n",
    "    parse_observations,\n",
    "    sample_sentence,\n",
    "    sample_sentence_rythme,\n",
    "    sample_sentence_multipleModel,\n",
    "    sample_sentence_multipleModel_rythme,\n",
    "    visualize_sparsities,\n",
    "    animate_emission\n",
    ")"
   ]
  },
  {
   "cell_type": "markdown",
   "metadata": {},
   "source": [
    "## 3 - Pre-processing"
   ]
  },
  {
   "cell_type": "code",
   "execution_count": 5,
   "metadata": {},
   "outputs": [
    {
     "name": "stdout",
     "output_type": "stream",
     "text": [
      "1\n"
     ]
    }
   ],
   "source": [
    "from Utility import get_poem_sequence\n",
    "\n",
    "obs, obs_Y, obs_map = get_poem_sequence('data/shakespeare3_test.txt', 'line', 'reverse')\n",
    "\n",
    "#print(obs[:10])\n",
    "#print(obs_Y[:10])\n",
    "#print(obs_map['perish_E1'])\n",
    "#print(obs_map)\n"
   ]
  },
  {
   "cell_type": "code",
   "execution_count": 6,
   "metadata": {},
   "outputs": [],
   "source": [
    "from Utility import get_rhyme_pair\n",
    "pairs_endofline = get_rhyme_pair(obs)\n",
    "#print(pairs_endofline)"
   ]
  },
  {
   "cell_type": "code",
   "execution_count": 7,
   "metadata": {},
   "outputs": [],
   "source": [
    "count_Y = np.zeros(12)\n",
    "for iobs in obs_Y:\n",
    "    for iiobs in iobs:\n",
    "        count_Y[iiobs] += 1\n",
    "#print(count_Y)"
   ]
  },
  {
   "cell_type": "markdown",
   "metadata": {},
   "source": [
    "## 5 - Poetry generation, part I - HMM (from HW6)"
   ]
  },
  {
   "cell_type": "code",
   "execution_count": 8,
   "metadata": {},
   "outputs": [],
   "source": [
    "#hmm_supervise = supervised_HMM(obs, obs_Y)"
   ]
  },
  {
   "cell_type": "code",
   "execution_count": 9,
   "metadata": {},
   "outputs": [
    {
     "name": "stdout",
     "output_type": "stream",
     "text": [
      "iteration 0\n",
      "iteration 10\n",
      "iteration 20\n",
      "iteration 30\n",
      "iteration 40\n"
     ]
    }
   ],
   "source": [
    "hmm5 = unsupervised_HMM(obs, 5, 50, 2019)"
   ]
  },
  {
   "cell_type": "code",
   "execution_count": 10,
   "metadata": {},
   "outputs": [
    {
     "name": "stdout",
     "output_type": "stream",
     "text": [
      "iteration 0\n",
      "iteration 10\n",
      "iteration 20\n",
      "iteration 30\n",
      "iteration 40\n",
      "iteration 50\n",
      "iteration 60\n",
      "iteration 70\n",
      "iteration 80\n",
      "iteration 90\n"
     ]
    }
   ],
   "source": [
    "hmm10 = unsupervised_HMM(obs, 10, 100, 2019)"
   ]
  },
  {
   "cell_type": "code",
   "execution_count": 11,
   "metadata": {},
   "outputs": [
    {
     "name": "stdout",
     "output_type": "stream",
     "text": [
      "('Will only in art so that dost fair prime', 'Beguile this , calls thy due art own worlds . time')\n"
     ]
    }
   ],
   "source": [
    "print(sample_sentence_rythme(hmm5, obs_map, pairs_endofline, print_syllable = False, n_syllable = 10))"
   ]
  },
  {
   "cell_type": "code",
   "execution_count": 20,
   "metadata": {},
   "outputs": [
    {
     "name": "stdout",
     "output_type": "stream",
     "text": [
      "His if feelst see ; only the thy that mine\n",
      "Bud if , a thy see say when thy and time\n",
      "Now face live where thine is tattered small thine\n",
      "Else dies thine husbandry back will we prime\n",
      "To where thereby thereby the own to now\n",
      "Mothers treasure , whose . , made posterity\n",
      "Lights and mothers face lusty thy not brow\n",
      "Thy thou thee image of world husbandry\n",
      "The now thine not thine the thy that from eyes\n",
      "Made the the by in thine content all old\n",
      "World were thine now die beautys in and lies\n",
      "Eat by thou due makst praise self , and , thou cold\n",
      "Is is besiege foe cold his , , feelst spring prime\n",
      "Thy thy flame grave thine dies he thou prime time\n"
     ]
    }
   ],
   "source": [
    "pairs_1to7 = []\n",
    "for idx in range(7):\n",
    "    line1, line2 = sample_sentence_multipleModel_rythme([hmm5, hmm10], obs_map, pairs_endofline, print_syllable = False, n_syllable=10)\n",
    "    pairs_1to7.append(line1)\n",
    "    pairs_1to7.append(line2)\n",
    "for idx in range(3):\n",
    "    print(pairs_1to7[4*idx])\n",
    "    print(pairs_1to7[4*idx+2])\n",
    "    print(pairs_1to7[4*idx+1])\n",
    "    print(pairs_1to7[4*idx+3])\n",
    "print(pairs_1to7[12])\n",
    "print(pairs_1to7[13])"
   ]
  },
  {
   "cell_type": "code",
   "execution_count": 15,
   "metadata": {},
   "outputs": [
    {
     "name": "stdout",
     "output_type": "stream",
     "text": [
      "Sample Sentences:\n",
      "====================\n",
      "His the she fair be days trenches image\n",
      "And art thriftless thy but my uneared mine\n",
      "Golden and glass and when so where the makst\n",
      "Beauty rose the thou content not , grave made\n",
      "Beauty ornament the cold that if lies\n",
      "Field bear thy thy now prime never excuse\n",
      ". time selflove old in use the when cold , fuel\n",
      "To tattered thy if thy fair if thy this\n",
      "Feedst thou youths by thine he and , contracted\n",
      ", face in tillage beautys praise , eyes never\n",
      "April his the will made and , thee time were\n",
      "Not fair with art on but thee face . excuse\n",
      "Creatures through form feelst if fuel old praise couldst\n",
      "With small of glass see by die tell thou now\n"
     ]
    }
   ],
   "source": [
    "print('Sample Sentences:\\n====================')\n",
    "for idx in range(14):\n",
    "    print(sample_sentence(hmm10, obs_map, print_syllable = False, n_syllable=10))"
   ]
  },
  {
   "cell_type": "markdown",
   "metadata": {},
   "source": [
    "## 6 - Poetry generation, part II - RNN"
   ]
  },
  {
   "cell_type": "code",
   "execution_count": null,
   "metadata": {},
   "outputs": [],
   "source": []
  },
  {
   "cell_type": "code",
   "execution_count": null,
   "metadata": {},
   "outputs": [],
   "source": []
  }
 ],
 "metadata": {
  "kernelspec": {
   "display_name": "Python 3",
   "language": "python",
   "name": "python3"
  },
  "language_info": {
   "codemirror_mode": {
    "name": "ipython",
    "version": 3
   },
   "file_extension": ".py",
   "mimetype": "text/x-python",
   "name": "python",
   "nbconvert_exporter": "python",
   "pygments_lexer": "ipython3",
   "version": "3.7.1"
  }
 },
 "nbformat": 4,
 "nbformat_minor": 2
}
