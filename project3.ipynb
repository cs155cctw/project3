{
 "cells": [
  {
   "cell_type": "code",
   "execution_count": 1,
   "metadata": {},
   "outputs": [],
   "source": [
    "from HMM import unsupervised_HMM, supervised_HMM\n",
    "import matplotlib as plt\n",
    "import numpy as np\n",
    "from HMM_helper import (\n",
    "    text_to_wordcloud,\n",
    "    states_to_wordclouds,\n",
    "    parse_observations,\n",
    "    sample_sentence,\n",
    "    sample_sentence_rythme,\n",
    "    sample_sentence_multipleModel,\n",
    "    visualize_sparsities,\n",
    "    animate_emission\n",
    ")"
   ]
  },
  {
   "cell_type": "markdown",
   "metadata": {},
   "source": [
    "## 3 - Pre-processing"
   ]
  },
  {
   "cell_type": "code",
   "execution_count": 2,
   "metadata": {},
   "outputs": [
    {
     "name": "stdout",
     "output_type": "stream",
     "text": [
      "1\n",
      "[[0, 1, 2, 3, 4, 5, 6], [0, 7, 8, 9, 10, 11, 12, 13], [0, 14, 15, 16, 17, 18, 19, 20, 21], [22, 23, 24, 25, 9, 26, 27, 24], [0, 28, 29, 30, 31, 32, 33, 34, 21], [0, 35, 36, 37, 38, 39, 40, 41], [0, 42, 43, 44, 45, 46, 47], [22, 48, 49, 50, 51, 40, 32, 0, 52, 40, 50, 40], [0, 53, 54, 55, 19, 56, 57, 13, 34], [0, 58, 59, 19, 32, 60, 61, 62]]\n",
      "[[11, 2, 5, 1, 3, 3, 1], [11, 1, 3, 1, 1, 10, 10, 1], [11, 2, 1, 1, 1, 10, 0, 1, 1], [11, 6, 1, 1, 1, 1, 3, 1], [11, 1, 1, 1, 1, 1, 6, 1, 1], [11, 3, 10, 1, 1, 1, 1, 10], [11, 1, 5, 1, 3, 1, 3], [11, 3, 1, 1, 1, 1, 1, 11, 1, 1, 1, 1], [11, 6, 1, 1, 0, 1, 1, 1, 1], [11, 1, 3, 0, 1, 3, 3, 0]]\n"
     ]
    }
   ],
   "source": [
    "from Utility import get_poem_sequence\n",
    "\n",
    "obs, obs_Y, obs_map = get_poem_sequence('data/shakespeare3_test.txt', 'line', 'reverse')\n",
    "\n",
    "print(obs[:10])\n",
    "print(obs_Y[:10])\n",
    "#print(obs_map['perish_E1'])\n",
    "#print(obs_map)\n"
   ]
  },
  {
   "cell_type": "code",
   "execution_count": 3,
   "metadata": {},
   "outputs": [
    {
     "name": "stdout",
     "output_type": "stream",
     "text": [
      "[[1, 14], [7, 23], [28, 42], [35, 48], [53, 63], [58, 67], [72, 80], [84, 56], [90, 100], [42, 28], [113, 118], [124, 135], [129, 31], [136, 145], [151, 159], [156, 163], [168, 176], [173, 180], [80, 150], [184, 15], [72, 80]]\n"
     ]
    }
   ],
   "source": [
    "from Utility import get_rhyme_pair\n",
    "pairs_endofline = get_rhyme_pair(obs)\n",
    "print(pairs_endofline)\n"
   ]
  },
  {
   "cell_type": "code",
   "execution_count": 4,
   "metadata": {},
   "outputs": [
    {
     "name": "stdout",
     "output_type": "stream",
     "text": [
      "[ 23. 234.  11.  36.   0.   5.   5.   0.   1.   0.  21.  49.]\n"
     ]
    }
   ],
   "source": [
    "count_Y = np.zeros(12)\n",
    "for iobs in obs_Y:\n",
    "    for iiobs in iobs:\n",
    "        count_Y[iiobs] += 1\n",
    "print(count_Y)"
   ]
  },
  {
   "cell_type": "markdown",
   "metadata": {},
   "source": [
    "## 5 - Poetry generation, part I - HMM (from HW6)"
   ]
  },
  {
   "cell_type": "code",
   "execution_count": 5,
   "metadata": {},
   "outputs": [],
   "source": [
    "#hmm_supervise = supervised_HMM(obs, obs_Y)"
   ]
  },
  {
   "cell_type": "code",
   "execution_count": 6,
   "metadata": {},
   "outputs": [
    {
     "name": "stdout",
     "output_type": "stream",
     "text": [
      "iteration 0\n",
      "iteration 10\n",
      "iteration 20\n",
      "iteration 30\n",
      "iteration 40\n"
     ]
    }
   ],
   "source": [
    "hmm5 = unsupervised_HMM(obs, 5, 50, 2019)"
   ]
  },
  {
   "cell_type": "code",
   "execution_count": 7,
   "metadata": {},
   "outputs": [],
   "source": [
    "#hmm10 = unsupervised_HMM(obs, 10, 100, 2019)"
   ]
  },
  {
   "cell_type": "code",
   "execution_count": 31,
   "metadata": {},
   "outputs": [
    {
     "name": "stdout",
     "output_type": "stream",
     "text": [
      "('Succession_3 old_1 if_1 lusty_2 beautys_2 use_1', 'Thou_1 will_1 ,_0 might_1 my_1 blood_1 livery_3 excuse_2')\n"
     ]
    }
   ],
   "source": [
    "print(sample_sentence_rythme(hmm5, obs_map, pairs_endofline, print_syllable = True, n_syllable = 10))"
   ]
  },
  {
   "cell_type": "code",
   "execution_count": 7,
   "metadata": {},
   "outputs": [
    {
     "ename": "IndexError",
     "evalue": "index 2006 is out of bounds for axis 0 with size 2006",
     "output_type": "error",
     "traceback": [
      "\u001b[0;31m---------------------------------------------------------------------------\u001b[0m",
      "\u001b[0;31mIndexError\u001b[0m                                Traceback (most recent call last)",
      "\u001b[0;32m<ipython-input-7-537a31baf021>\u001b[0m in \u001b[0;36m<module>\u001b[0;34m\u001b[0m\n\u001b[1;32m      1\u001b[0m \u001b[0;32mfor\u001b[0m \u001b[0midx\u001b[0m \u001b[0;32min\u001b[0m \u001b[0mrange\u001b[0m\u001b[0;34m(\u001b[0m\u001b[0;36m14\u001b[0m\u001b[0;34m)\u001b[0m\u001b[0;34m:\u001b[0m\u001b[0;34m\u001b[0m\u001b[0;34m\u001b[0m\u001b[0m\n\u001b[0;32m----> 2\u001b[0;31m     \u001b[0mprint\u001b[0m\u001b[0;34m(\u001b[0m\u001b[0msample_sentence_multipleModel\u001b[0m\u001b[0;34m(\u001b[0m\u001b[0;34m[\u001b[0m\u001b[0mhmm_supervise\u001b[0m\u001b[0;34m,\u001b[0m \u001b[0mhmm5\u001b[0m\u001b[0;34m,\u001b[0m \u001b[0mhmm10\u001b[0m\u001b[0;34m]\u001b[0m\u001b[0;34m,\u001b[0m \u001b[0mobs_map\u001b[0m\u001b[0;34m,\u001b[0m \u001b[0mprint_syllable\u001b[0m \u001b[0;34m=\u001b[0m \u001b[0;32mTrue\u001b[0m\u001b[0;34m,\u001b[0m \u001b[0mn_syllable\u001b[0m\u001b[0;34m=\u001b[0m\u001b[0;36m10\u001b[0m\u001b[0;34m)\u001b[0m\u001b[0;34m)\u001b[0m\u001b[0;34m\u001b[0m\u001b[0;34m\u001b[0m\u001b[0m\n\u001b[0m",
      "\u001b[0;32m/media/zhicaiz/HDD/cernbox/Caltech/CaltechCourses/CS155/project3/project3/HMM_helper.py\u001b[0m in \u001b[0;36msample_sentence_multipleModel\u001b[0;34m(hmm_list, obs_map, print_syllable, n_syllable)\u001b[0m\n\u001b[1;32m    152\u001b[0m \u001b[0;34m\u001b[0m\u001b[0m\n\u001b[1;32m    153\u001b[0m         \u001b[0;32mfor\u001b[0m \u001b[0midx_obs\u001b[0m \u001b[0;32min\u001b[0m \u001b[0mrange\u001b[0m\u001b[0;34m(\u001b[0m\u001b[0mhmm_list\u001b[0m\u001b[0;34m[\u001b[0m\u001b[0midx_hmm\u001b[0m\u001b[0;34m]\u001b[0m\u001b[0;34m.\u001b[0m\u001b[0mD\u001b[0m\u001b[0;34m)\u001b[0m\u001b[0;34m:\u001b[0m\u001b[0;34m\u001b[0m\u001b[0;34m\u001b[0m\u001b[0m\n\u001b[0;32m--> 154\u001b[0;31m             \u001b[0mprobabilities\u001b[0m\u001b[0;34m[\u001b[0m\u001b[0midx_obs\u001b[0m\u001b[0;34m]\u001b[0m \u001b[0;34m+=\u001b[0m \u001b[0mhmm_list\u001b[0m\u001b[0;34m[\u001b[0m\u001b[0midx_hmm\u001b[0m\u001b[0;34m]\u001b[0m\u001b[0;34m.\u001b[0m\u001b[0mO\u001b[0m\u001b[0;34m[\u001b[0m\u001b[0mstate\u001b[0m\u001b[0;34m]\u001b[0m\u001b[0;34m[\u001b[0m\u001b[0midx_obs\u001b[0m\u001b[0;34m]\u001b[0m\u001b[0;34m\u001b[0m\u001b[0;34m\u001b[0m\u001b[0m\n\u001b[0m\u001b[1;32m    155\u001b[0m             \u001b[0;32mif\u001b[0m \u001b[0;34m(\u001b[0m\u001b[0midx_hmm\u001b[0m \u001b[0;34m==\u001b[0m \u001b[0;36m0\u001b[0m \u001b[0;32mand\u001b[0m \u001b[0mhmm_list\u001b[0m\u001b[0;34m[\u001b[0m\u001b[0;36m0\u001b[0m\u001b[0;34m]\u001b[0m\u001b[0;34m.\u001b[0m\u001b[0mO\u001b[0m\u001b[0;34m[\u001b[0m\u001b[0mstate\u001b[0m\u001b[0;34m]\u001b[0m\u001b[0;34m[\u001b[0m\u001b[0midx_obs\u001b[0m\u001b[0;34m]\u001b[0m \u001b[0;34m==\u001b[0m \u001b[0;36m0.0\u001b[0m\u001b[0;34m)\u001b[0m \u001b[0;32mor\u001b[0m \u001b[0;34m(\u001b[0m\u001b[0mobs_map_r\u001b[0m\u001b[0;34m[\u001b[0m\u001b[0midx_obs\u001b[0m\u001b[0;34m]\u001b[0m\u001b[0;34m.\u001b[0m\u001b[0msplit\u001b[0m\u001b[0;34m(\u001b[0m\u001b[0;34m'_'\u001b[0m\u001b[0;34m)\u001b[0m\u001b[0;34m[\u001b[0m\u001b[0;36m1\u001b[0m\u001b[0;34m]\u001b[0m\u001b[0;34m[\u001b[0m\u001b[0;36m0\u001b[0m\u001b[0;34m]\u001b[0m \u001b[0;34m==\u001b[0m \u001b[0;34m'E'\u001b[0m\u001b[0;34m)\u001b[0m\u001b[0;34m:\u001b[0m\u001b[0;34m\u001b[0m\u001b[0;34m\u001b[0m\u001b[0m\n\u001b[1;32m    156\u001b[0m                 \u001b[0mmultiply_factor\u001b[0m\u001b[0;34m[\u001b[0m\u001b[0midx_obs\u001b[0m\u001b[0;34m]\u001b[0m \u001b[0;34m=\u001b[0m \u001b[0;36m0.0\u001b[0m\u001b[0;34m\u001b[0m\u001b[0;34m\u001b[0m\u001b[0m\n",
      "\u001b[0;31mIndexError\u001b[0m: index 2006 is out of bounds for axis 0 with size 2006"
     ]
    }
   ],
   "source": [
    "for idx in range(14):\n",
    "    print(sample_sentence_multipleModel([hmm_supervise, hmm5, hmm10], obs_map, print_syllable = True, n_syllable=10))"
   ]
  },
  {
   "cell_type": "code",
   "execution_count": null,
   "metadata": {},
   "outputs": [],
   "source": [
    "print('Sample Sentences:\\n====================')\n",
    "for idx in range(14):\n",
    "    print(sample_sentence(hmm10, obs_map, print_syllable = True, n_syllable=10))"
   ]
  },
  {
   "cell_type": "markdown",
   "metadata": {},
   "source": [
    "## 6 - Poetry generation, part II - RNN"
   ]
  },
  {
   "cell_type": "code",
   "execution_count": null,
   "metadata": {},
   "outputs": [],
   "source": []
  },
  {
   "cell_type": "code",
   "execution_count": null,
   "metadata": {},
   "outputs": [],
   "source": []
  }
 ],
 "metadata": {
  "kernelspec": {
   "display_name": "Python 3",
   "language": "python",
   "name": "python3"
  },
  "language_info": {
   "codemirror_mode": {
    "name": "ipython",
    "version": 3
   },
   "file_extension": ".py",
   "mimetype": "text/x-python",
   "name": "python",
   "nbconvert_exporter": "python",
   "pygments_lexer": "ipython3",
   "version": "3.6.5"
  }
 },
 "nbformat": 4,
 "nbformat_minor": 2
}
