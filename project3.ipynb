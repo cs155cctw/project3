{
 "cells": [
  {
   "cell_type": "code",
   "execution_count": 1,
   "metadata": {},
   "outputs": [],
   "source": [
    "from HMM import unsupervised_HMM, supervised_HMM\n",
    "import matplotlib as plt\n",
    "import numpy as np\n",
    "from HMM_helper import (\n",
    "    text_to_wordcloud,\n",
    "    states_to_wordclouds,\n",
    "    parse_observations,\n",
    "    sample_sentence,\n",
    "    sample_sentence_rythme,\n",
    "    sample_sentence_multipleModel,\n",
    "    visualize_sparsities,\n",
    "    animate_emission\n",
    ")"
   ]
  },
  {
   "cell_type": "markdown",
   "metadata": {},
   "source": [
    "## 3 - Pre-processing"
   ]
  },
  {
   "cell_type": "code",
   "execution_count": 9,
   "metadata": {},
   "outputs": [
    {
     "name": "stdout",
     "output_type": "stream",
     "text": [
      "1\n",
      "[[0, 1, 2, 3, 4, 5, 6], [0, 7, 8, 9, 10, 11, 12, 13], [0, 14, 15, 16, 17, 18, 19, 20, 21], [22, 23, 24, 25, 9, 26, 27, 24], [0, 28, 29, 30, 31, 32, 33, 34, 21], [0, 35, 36, 37, 38, 39, 40, 41], [0, 42, 43, 44, 45, 46, 47], [22, 48, 49, 50, 51, 40, 32, 0, 52, 40, 50, 40], [0, 53, 54, 55, 19, 56, 57, 13, 34], [0, 58, 59, 19, 32, 60, 61, 62]]\n",
      "[[11, 2, 5, 1, 3, 3, 1], [11, 1, 3, 1, 1, 10, 10, 1], [11, 2, 1, 1, 1, 10, 0, 1, 1], [11, 6, 1, 1, 1, 1, 3, 1], [11, 1, 1, 1, 1, 1, 6, 1, 1], [11, 3, 10, 1, 1, 1, 1, 10], [11, 1, 5, 1, 3, 1, 3], [11, 3, 1, 1, 1, 1, 1, 11, 1, 1, 1, 1], [11, 6, 1, 1, 0, 1, 1, 1, 1], [11, 1, 3, 0, 1, 3, 3, 0]]\n"
     ]
    }
   ],
   "source": [
    "from Utility import get_poem_sequence\n",
    "\n",
    "obs, obs_Y, obs_map = get_poem_sequence('data/shakespeare3.txt', 'line', 'reverse')\n",
    "\n",
    "#print(obs[:10])\n",
    "#print(obs_Y[:10])\n",
    "#print(obs_map['perish_E1'])\n",
    "#print(obs_map)\n"
   ]
  },
  {
   "cell_type": "code",
   "execution_count": 10,
   "metadata": {},
   "outputs": [],
   "source": [
    "from Utility import get_rhyme_pair\n",
    "pairs_endofline = get_rhyme_pair(obs)\n",
    "#print(pairs_endofline)\n"
   ]
  },
  {
   "cell_type": "code",
   "execution_count": 11,
   "metadata": {},
   "outputs": [],
   "source": [
    "count_Y = np.zeros(12)\n",
    "for iobs in obs_Y:\n",
    "    for iiobs in iobs:\n",
    "        count_Y[iiobs] += 1\n",
    "#print(count_Y)"
   ]
  },
  {
   "cell_type": "markdown",
   "metadata": {},
   "source": [
    "## 5 - Poetry generation, part I - HMM (from HW6)"
   ]
  },
  {
   "cell_type": "code",
   "execution_count": 5,
   "metadata": {},
   "outputs": [],
   "source": [
    "#hmm_supervise = supervised_HMM(obs, obs_Y)"
   ]
  },
  {
   "cell_type": "code",
   "execution_count": 6,
   "metadata": {},
   "outputs": [
    {
     "name": "stdout",
     "output_type": "stream",
     "text": [
      "iteration 0\n",
      "iteration 10\n",
      "iteration 20\n",
      "iteration 30\n",
      "iteration 40\n"
     ]
    }
   ],
   "source": [
    "hmm5 = unsupervised_HMM(obs, 5, 50, 2019)"
   ]
  },
  {
   "cell_type": "code",
   "execution_count": null,
   "metadata": {},
   "outputs": [
    {
     "name": "stdout",
     "output_type": "stream",
     "text": [
      "iteration 0\n",
      "iteration 10\n"
     ]
    }
   ],
   "source": [
    "hmm10 = unsupervised_HMM(obs, 10, 100, 2019)"
   ]
  },
  {
   "cell_type": "code",
   "execution_count": null,
   "metadata": {},
   "outputs": [],
   "source": [
    "print(sample_sentence_rythme(hmm5, obs_map, pairs_endofline, print_syllable = False, n_syllable = 10))"
   ]
  },
  {
   "cell_type": "code",
   "execution_count": null,
   "metadata": {},
   "outputs": [],
   "source": [
    "for idx in range(14):\n",
    "    print(sample_sentence_multipleModel([hmm_supervise, hmm5, hmm10], obs_map, print_syllable = True, n_syllable=10))"
   ]
  },
  {
   "cell_type": "code",
   "execution_count": null,
   "metadata": {},
   "outputs": [],
   "source": [
    "print('Sample Sentences:\\n====================')\n",
    "for idx in range(14):\n",
    "    print(sample_sentence(hmm10, obs_map, print_syllable = True, n_syllable=10))"
   ]
  },
  {
   "cell_type": "markdown",
   "metadata": {},
   "source": [
    "## 6 - Poetry generation, part II - RNN"
   ]
  },
  {
   "cell_type": "code",
   "execution_count": null,
   "metadata": {},
   "outputs": [],
   "source": []
  },
  {
   "cell_type": "code",
   "execution_count": null,
   "metadata": {},
   "outputs": [],
   "source": []
  }
 ],
 "metadata": {
  "kernelspec": {
   "display_name": "Python 3",
   "language": "python",
   "name": "python3"
  },
  "language_info": {
   "codemirror_mode": {
    "name": "ipython",
    "version": 3
   },
   "file_extension": ".py",
   "mimetype": "text/x-python",
   "name": "python",
   "nbconvert_exporter": "python",
   "pygments_lexer": "ipython3",
   "version": "3.6.8"
  }
 },
 "nbformat": 4,
 "nbformat_minor": 2
}
