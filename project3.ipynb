{
 "cells": [
  {
   "cell_type": "code",
   "execution_count": 1,
   "metadata": {},
   "outputs": [],
   "source": [
    "from HMM import unsupervised_HMM, supervised_HMM\n",
    "import matplotlib as plt\n",
    "import numpy as np\n",
    "from HMM_helper import (\n",
    "    text_to_wordcloud,\n",
    "    states_to_wordclouds,\n",
    "    parse_observations,\n",
    "    sample_sentence,\n",
    "    sample_sentence_rythme,\n",
    "    sample_sentence_multipleModel,\n",
    "    sample_sentence_multipleModel_rythme,\n",
    "    visualize_sparsities,\n",
    "    animate_emission\n",
    ")"
   ]
  },
  {
   "cell_type": "markdown",
   "metadata": {},
   "source": [
    "## 3 - Pre-processing"
   ]
  },
  {
   "cell_type": "code",
   "execution_count": 2,
   "metadata": {},
   "outputs": [
    {
     "name": "stdout",
     "output_type": "stream",
     "text": [
      "1\n"
     ]
    }
   ],
   "source": [
    "from Utility import get_poem_sequence\n",
    "\n",
    "obs, obs_Y, obs_map = get_poem_sequence('data/shakespeare3.txt', 'line', 'reverse')\n",
    "\n",
    "#print(obs[:10])\n",
    "#print(obs_Y[:10])\n",
    "#print(obs_map['perish_E1'])\n",
    "#print(obs_map)\n"
   ]
  },
  {
   "cell_type": "code",
   "execution_count": 3,
   "metadata": {},
   "outputs": [],
   "source": [
    "from Utility import get_rhyme_pair\n",
    "pairs_endofline = get_rhyme_pair(obs)\n",
    "#print(pairs_endofline)"
   ]
  },
  {
   "cell_type": "code",
   "execution_count": 4,
   "metadata": {},
   "outputs": [],
   "source": [
    "count_Y = np.zeros(12)\n",
    "for iobs in obs_Y:\n",
    "    for iiobs in iobs:\n",
    "        count_Y[iiobs] += 1\n",
    "#print(count_Y)"
   ]
  },
  {
   "cell_type": "markdown",
   "metadata": {},
   "source": [
    "## 5 - Poetry generation, part I - HMM (from HW6)"
   ]
  },
  {
   "cell_type": "code",
   "execution_count": 10,
   "metadata": {},
   "outputs": [],
   "source": [
    "hmm_supervise = supervised_HMM(obs, obs_Y)"
   ]
  },
  {
   "cell_type": "code",
   "execution_count": 11,
   "metadata": {},
   "outputs": [
    {
     "name": "stdout",
     "output_type": "stream",
     "text": [
      "Iteration: 10\n",
      "Iteration: 20\n",
      "Iteration: 30\n",
      "Iteration: 40\n",
      "Iteration: 50\n",
      "Iteration: 60\n",
      "Iteration: 70\n",
      "Iteration: 80\n",
      "Iteration: 90\n",
      "Iteration: 100\n"
     ]
    }
   ],
   "source": [
    "hmm5 = unsupervised_HMM(obs, 5, 100, 2019)"
   ]
  },
  {
   "cell_type": "code",
   "execution_count": 12,
   "metadata": {},
   "outputs": [
    {
     "name": "stdout",
     "output_type": "stream",
     "text": [
      "Iteration: 10\n",
      "Iteration: 20\n",
      "Iteration: 30\n",
      "Iteration: 40\n",
      "Iteration: 50\n",
      "Iteration: 60\n",
      "Iteration: 70\n",
      "Iteration: 80\n",
      "Iteration: 90\n",
      "Iteration: 100\n"
     ]
    }
   ],
   "source": [
    "hmm10 = unsupervised_HMM(obs, 10, 100, 2019)"
   ]
  },
  {
   "cell_type": "code",
   "execution_count": 13,
   "metadata": {},
   "outputs": [
    {
     "name": "stdout",
     "output_type": "stream",
     "text": [
      "('That show the confounds , yet beauty dear . more', 'This joy love , not and appetite so store')\n"
     ]
    }
   ],
   "source": [
    "print(sample_sentence_rythme(hmm10, obs_map, pairs_endofline, print_syllable = False, n_syllable = 10))"
   ]
  },
  {
   "cell_type": "code",
   "execution_count": 17,
   "metadata": {},
   "outputs": [
    {
     "name": "stdout",
     "output_type": "stream",
     "text": [
      "Generating poem... 0\n",
      "==============================\n",
      "Man  true could wooed when my eyes  the fly thee\n",
      "My to tears my my abhor  bad they hand\n",
      "Stealth senses fort timebettering the sums me\n",
      "Is theirs i another him that is stand\n",
      "Beauty every days betraying not sang\n",
      "So thought know chopt the every alone plea\n",
      "Sweet self speaking  and girded give so hang\n",
      "Every  and part to eye of husband sea\n",
      "And shallowest it thy and guard not bore why\n",
      "Eternity in for not to your queen\n",
      "More painters not our a kind invent lie\n",
      "Even to and do  and dost shake more but seen\n",
      "But and for wealth maiden eternity\n",
      "I give wires care thing they sweet canopy\n",
      "\n",
      "Generating poem... 1\n",
      "==============================\n",
      "Delight see seek that how though show sing i\n",
      "Their gains leads that world  the mad to live jaws\n",
      "Make me dress in thou that earth wars in be\n",
      "Not then as silent make o well a paws\n",
      "Towards  and losing best receiving hath this\n",
      "Even keen askance dare put for a and lies\n",
      "Spirit  that were natures art i blunt to kiss\n",
      "Foot which and not dear joy would what from eyes\n",
      "A any makes see self to all i  heaven\n",
      "Many is must so praise first forfeit i find\n",
      "This petty wellseeing the than even\n",
      "And idle  rise against all my not mind\n",
      "Miscalled full as truant  be would alone\n",
      "Declines thou thou that nimble grace give one\n",
      "\n",
      "Generating poem... 2\n",
      "==============================\n",
      "Writers is lest they knowing can for being\n",
      "Even in be being dost are today with are\n",
      "Then grave except  thy wars clearer your seeing\n",
      "Spacious which can accusing to  care\n",
      "My friend do could scythe of cry intermixed\n",
      "Stage cunning longing bids all therefore minds\n",
      "Given and sorrows her loves be thy show fixed\n",
      "Poor the alone breast worse part you and winds\n",
      "Towards my inconstant a share can a bell\n",
      "Thou idle fortune from sportive all dwell\n",
      "To  to as importune sorrows in dwell\n",
      "Not thee and prefiguring whilst back bell\n",
      "His on thy with  fond offices than out\n",
      "Heats be the his be is foison his stout\n",
      "\n",
      "Generating poem... 3\n",
      "==============================\n",
      "Oft me heats your was one a remembered\n",
      "This if within me i blame perfectst more\n",
      "I with the in that four and eyes quest tendered\n",
      "Heats stout him spending not love not abhor\n",
      "The i woe may wealth when did virtue knows\n",
      "Greater beauty do  thy his astronomy\n",
      "Grief from burthen shall anon sake when foes\n",
      "Our tomb created your lips quality\n",
      "Him me art a losing shall do so youth\n",
      "Speed wrecked when state art beauty keeps him got\n",
      "In for  the dost own his than place times truth\n",
      "Of to on overturn mortal found blot\n",
      "Yet robbing no i thee was this if might\n",
      "Who that to my now wastes ; time streams you rite\n",
      "\n",
      "Generating poem... 4\n",
      "==============================\n",
      "Woe to time sweet hear i stay poor winds have\n",
      "When nimble that that record figure art\n",
      "As if black minutes he lies changing grave\n",
      "Thou too profound  dressings no appear heart\n",
      "My hue which tie converted die pace sight\n",
      "Then vulgar sunken at thy my love lay\n",
      "Vaunt come war the therefore breast stained eyes night\n",
      "Our  and truth may from so think  dig the say\n",
      "Many sickly love on their little newfired\n",
      "Example rose i it ten buriest it\n",
      "They all sweetest which thou declines desired\n",
      "Painting adonis liberty breath it\n",
      "Every or end his eyes no thee thee have\n",
      "Can  fade ere against  face his never grave\n",
      "\n",
      "Generating poem... 5\n",
      "==============================\n",
      "And of know o the seen with those griefs they\n",
      "Even to desire give and me twain full is\n",
      "That broke well woe love believed  the that say\n",
      "State : i smell that but them bearst and amis\n",
      "Tempteth for fair a dead thee the thy you\n",
      "To the which rose yet with of and age can\n",
      "As and hath wrongs my night of each fine true\n",
      "As so by  her dost o a in feast man\n",
      "Mourn times th the say me made mine memory\n",
      "Nor  the sail prize selflove lost or  and keep\n",
      "Be an eye unmoved eternity\n",
      "If making thee cheeks my still cancelled weep\n",
      "And be who doctorlike a what selfkilled\n",
      "The of precious thou her alack distilled\n",
      "\n",
      "Generating poem... 6\n",
      "==============================\n",
      "To praise i soon of still alone your his\n",
      "This that  and thou straight how ever wits show\n",
      "Many my my not poorly to why no is\n",
      "To yield art plea power things doth is of so\n",
      "Be since then heart such heavy intermixed\n",
      "Power to dost are from thee shows to love give\n",
      "State every love that thus lays thy less fixed\n",
      "Heats dreams in pluck substance speak now harsh live\n",
      "Shall mourning be the break loving bent be\n",
      "Proud thy sad tame me dial should and this\n",
      "Desire least me were three adore both me\n",
      "Record eternal to it just love is\n",
      "To art for can i rotten prize form me\n",
      "Which grounded from are me not be did thee\n",
      "\n",
      "Generating poem... 7\n",
      "==============================\n",
      "Heats the waste eyes think for mayst make me flower\n",
      "Fell a all your desert as lie depart\n",
      "Wound general : in to be doth more and power\n",
      "Made but thou for  and worship like and art\n",
      "I due to with could year rage walls is love\n",
      "Better so one thee that eternity\n",
      "All white worth he after hath thank as move\n",
      "Woman such will natures to canopy\n",
      "Of and grounded where who the now  not eye\n",
      "Power beautys am my so my in and still\n",
      "Toward help self preposterously gravity\n",
      "Love poet might kings like things some mark will\n",
      "Wrinkles  dear love arts both the indigest\n",
      "Joy doth me arrest this my worth should best\n",
      "\n",
      "Generating poem... 8\n",
      "==============================\n",
      "Give thine so dost barren day trial worse\n",
      "Doom such that  leave shade compiled stain erred no\n",
      "If for triumph sharp durst hope afford curse\n",
      "Power her vile and even for nature you so\n",
      "Warning falsehood dead lose there discontent\n",
      "And did thy this thou kind intelligence\n",
      "To the which and key him large accident\n",
      "Composition so endured thou love  thence\n",
      "Special i withal i still nor mine thief\n",
      "Recured with in him no of thee all truth\n",
      "Praise pictured fire they my to mourners grief\n",
      "I lords should more former which writ i youth\n",
      "Heaven all to so than knowst but seem alack\n",
      "Spirit should return and this with confined back\n",
      "\n",
      "Generating poem... 9\n",
      "==============================\n",
      "Was i appear cloud that were from shall not\n",
      "When can true thy mayst suretylike in so\n",
      "Is in if and yet gentle beautys blot\n",
      "Not elsewhere that and self our faith just know\n",
      "Skill head therein do carve when show grew sing\n",
      "Praise making now any every me say\n",
      "Top would chopt lifes  not : and prefiguring\n",
      "You  with rage things beautys  and both a they\n",
      "Fuel leave credit make us his liberty\n",
      "Is king tempests herald crawls discontent\n",
      "Those my all guess to thy and injury\n",
      "Heats in thy seest their enough when a bent\n",
      "Where fair robbed draw so of not your catch thee\n",
      "Is best was now how as my translate me\n",
      "\n"
     ]
    }
   ],
   "source": [
    "for ipoem in range(10):\n",
    "    print(\"Generating poem... \"+str(ipoem))\n",
    "    print(\"==============================\")\n",
    "    pairs_1to7 = []\n",
    "    poemfilename = 'poems.txt'\n",
    "    for idx in range(7):\n",
    "        line1, line2 = sample_sentence_multipleModel_rythme([hmm_supervise, hmm5, hmm10], obs_map, pairs_endofline, print_syllable = False, n_syllable=10)\n",
    "        pairs_1to7.append(line1.replace(',','').replace('.',''))\n",
    "        pairs_1to7.append(line2.replace(',','').replace('.',''))\n",
    "    print(\"==========supervised, HMM5_seed2019_iter100, HMM10_seed2019_iter100================\", file=open(poemfilename, 'a'))\n",
    "    for idx in range(3):\n",
    "        print(pairs_1to7[4*idx], file=open(poemfilename, 'a'))\n",
    "        print(pairs_1to7[4*idx+2], file=open(poemfilename, 'a'))\n",
    "        print(pairs_1to7[4*idx+1], file=open(poemfilename, 'a'))\n",
    "        print(pairs_1to7[4*idx+3], file=open(poemfilename, 'a'))\n",
    "\n",
    "        print(pairs_1to7[4*idx])\n",
    "        print(pairs_1to7[4*idx+2])\n",
    "        print(pairs_1to7[4*idx+1])\n",
    "        print(pairs_1to7[4*idx+3])\n",
    "    print(pairs_1to7[12], file=open(poemfilename, 'a'))\n",
    "    print(pairs_1to7[13], file=open(poemfilename, 'a'))\n",
    "    print(pairs_1to7[12])\n",
    "    print(pairs_1to7[13])\n",
    "    print('')\n",
    "    print('   ', file=open(poemfilename, 'a'))"
   ]
  },
  {
   "cell_type": "markdown",
   "metadata": {},
   "source": [
    "## 6 - Poetry generation, part II - RNN"
   ]
  },
  {
   "cell_type": "code",
   "execution_count": null,
   "metadata": {},
   "outputs": [],
   "source": []
  },
  {
   "cell_type": "code",
   "execution_count": null,
   "metadata": {},
   "outputs": [],
   "source": []
  }
 ],
 "metadata": {
  "kernelspec": {
   "display_name": "Python 3",
   "language": "python",
   "name": "python3"
  },
  "language_info": {
   "codemirror_mode": {
    "name": "ipython",
    "version": 3
   },
   "file_extension": ".py",
   "mimetype": "text/x-python",
   "name": "python",
   "nbconvert_exporter": "python",
   "pygments_lexer": "ipython3",
   "version": "3.7.1"
  }
 },
 "nbformat": 4,
 "nbformat_minor": 2
}
