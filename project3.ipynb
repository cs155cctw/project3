{
 "cells": [
  {
   "cell_type": "code",
   "execution_count": 4,
   "metadata": {},
   "outputs": [],
   "source": [
    "from HMM import unsupervised_HMM, supervised_HMM\n",
    "import matplotlib as plt\n",
    "import numpy as np\n",
    "from HMM_helper import (\n",
    "    text_to_wordcloud,\n",
    "    states_to_wordclouds,\n",
    "    parse_observations,\n",
    "    sample_sentence,\n",
    "    sample_sentence_multipleModel,\n",
    "    visualize_sparsities,\n",
    "    animate_emission\n",
    ")"
   ]
  },
  {
   "cell_type": "markdown",
   "metadata": {},
   "source": [
    "## 3 - Pre-processing"
   ]
  },
  {
   "cell_type": "code",
   "execution_count": 5,
   "metadata": {},
   "outputs": [
    {
     "name": "stdout",
     "output_type": "stream",
     "text": [
      "1\n",
      "[[0, 1, 2, 3, 4, 5, 6], [7, 8, 9, 10, 11, 12, 13, 6], [14, 15, 16, 17, 18, 19, 20, 21, 6], [22, 23, 24, 11, 25, 22, 26, 27], [14, 28, 29, 30, 31, 32, 33, 34, 6], [35, 36, 37, 38, 39, 40, 41, 6], [42, 43, 44, 45, 46, 47, 6], [36, 48, 36, 49, 6, 30, 36, 50, 48, 51, 52, 27], [28, 7, 53, 54, 16, 55, 56, 57, 6], [58, 59, 60, 30, 16, 61, 62, 6]]\n",
      "[[1, 3, 3, 1, 5, 2, 11], [1, 10, 10, 1, 1, 3, 1, 11], [1, 1, 0, 10, 1, 1, 1, 2, 11], [1, 3, 1, 1, 1, 1, 6, 11], [1, 1, 6, 1, 1, 1, 1, 1, 11], [10, 1, 1, 1, 1, 10, 3, 11], [3, 1, 3, 1, 5, 1, 11], [1, 1, 1, 1, 11, 1, 1, 1, 1, 1, 3, 11], [1, 1, 1, 1, 0, 1, 1, 6, 11], [0, 3, 3, 1, 0, 3, 1, 11]]\n",
      "528\n"
     ]
    }
   ],
   "source": [
    "from Utility import get_poem_sequence\n",
    "\n",
    "obs, obs_Y, obs_map = get_poem_sequence('data/shakespeare3.txt', 'line')\n",
    "\n",
    "print(obs[:10])\n",
    "print(obs_Y[:10])\n",
    "print(obs_map['perish_E1'])\n",
    "#print(obs_map)\n"
   ]
  },
  {
   "cell_type": "code",
   "execution_count": 6,
   "metadata": {},
   "outputs": [
    {
     "name": "stdout",
     "output_type": "stream",
     "text": [
      "[9.1500e+02 1.2825e+04 7.0600e+02 1.8590e+03 6.0000e+00 2.0100e+02\n",
      " 2.4000e+02 1.3000e+01 4.7000e+01 6.0000e+00 5.4300e+02 2.5440e+03]\n"
     ]
    }
   ],
   "source": [
    "count_Y = np.zeros(12)\n",
    "for iobs in obs_Y:\n",
    "    for iiobs in iobs:\n",
    "        count_Y[iiobs] += 1\n",
    "print(count_Y)"
   ]
  },
  {
   "cell_type": "markdown",
   "metadata": {},
   "source": [
    "## 5 - Poetry generation, part I - HMM (from HW6)"
   ]
  },
  {
   "cell_type": "code",
   "execution_count": 7,
   "metadata": {},
   "outputs": [],
   "source": [
    "hmm_supervise = supervised_HMM(obs[:1000], obs_Y[:1000])"
   ]
  },
  {
   "cell_type": "code",
   "execution_count": 8,
   "metadata": {},
   "outputs": [
    {
     "name": "stdout",
     "output_type": "stream",
     "text": [
      "iteration 0\n",
      "iteration 10\n",
      "iteration 20\n",
      "iteration 30\n",
      "iteration 40\n",
      "iteration 50\n",
      "iteration 60\n",
      "iteration 70\n",
      "iteration 80\n",
      "iteration 90\n"
     ]
    }
   ],
   "source": [
    "hmm5 = unsupervised_HMM(obs[:10], 5, 100, 2019)"
   ]
  },
  {
   "cell_type": "code",
   "execution_count": 9,
   "metadata": {},
   "outputs": [
    {
     "name": "stdout",
     "output_type": "stream",
     "text": [
      "iteration 0\n",
      "iteration 10\n",
      "iteration 20\n",
      "iteration 30\n",
      "iteration 40\n",
      "iteration 50\n",
      "iteration 60\n",
      "iteration 70\n",
      "iteration 80\n",
      "iteration 90\n"
     ]
    }
   ],
   "source": [
    "hmm10 = unsupervised_HMM(obs[:10], 10, 100, 2019)"
   ]
  },
  {
   "cell_type": "code",
   "execution_count": 45,
   "metadata": {},
   "outputs": [
    {
     "name": "stdout",
     "output_type": "stream",
     "text": [
      "Resembling_3 painter_2 with_1 looking_2 spring_1 like_1\n",
      "Revolution_4 rose_1 art_1 eyes_1 where_1 as_1 cruel_e1\n",
      "Natures_2 creatures_2 or_1 desire_2 making_2 to_1\n",
      ",_0 should_1 wife_1 by_1 should_1 ,_0 making_2 his_1 eyes_1 and_1 his_1\n",
      "Ceremony_4 ,_0 the_1 a_1 bright_1 might_1 decease_2\n",
      ",_0 and_1 i_1 :_0 and_1 lights_1 increase_2 ,_0 gay_1 rose_1 :_0 born_1 ,_0 and_1\n",
      "Authority_4 our_2 they_1 self_1 toil_1 thought_1\n",
      "Desire_2 only_2 deceivest_e2 in_1 increase_2 ,_0 thy_1\n",
      "And_1 knows_1 which_1 where_1 gaudy_2 might_1 ,_0 hate_1 thereby_2\n",
      "And_1 poet_2 art_1 removed_2 ,_0 am_1 we_1 victories_3\n",
      "By_1 seek_1 what_1 ornament_3 his_1 that_1 earth_1 ,_0 heart_1\n",
      "Interchange_3 should_1 heart_1 making_2 were_1 love_1 so_1\n",
      "Entertain_3 and_1 on_1 darkness_2 with_1 desire_2\n",
      "Increase_2 ,_0 and_1 increase_2 but_1 oer_1 the_1 tender_2\n"
     ]
    }
   ],
   "source": [
    "for idx in range(14):\n",
    "    print(sample_sentence_multipleModel([hmm_supervise, hmm5, hmm10], obs_map, print_syllable = True, n_syllable=10))"
   ]
  },
  {
   "cell_type": "code",
   "execution_count": 71,
   "metadata": {},
   "outputs": [
    {
     "name": "stdout",
     "output_type": "stream",
     "text": [
      "Sample Sentences:\n",
      "====================\n",
      "Feedst_1 the_1 own_1 self_1 never_2 bright_1 with_1 ,_0 bear_1 fuel_1\n",
      "Abundance_3 his_1 time_1 lies_1 heir_1 might_1 decease_2\n",
      "Bright_1 increase_2 too_1 we_1 thy_1 foe_1 desire_2 cruel_e1\n",
      "Thy_1 and_1 desire_2 increase_2 creatures_2 increase_2\n",
      ",_0 tender_2 his_1 that_1 decease_2 ,_0 memory_3 should_1\n",
      "But_1 feedst_1 the_1 die_1 ,_0 and_1 thine_1 lights_1 gaudy_2 spring_1\n",
      "Art_1 we_1 ,_0 decease_2 heir_1 memory_3 decease_2\n",
      "By_1 memory_3 thereby_2 thereby_2 tender_2\n",
      "Heir_1 memory_3 should_1 by_1 that_1 bear_1 ,_0 might_1 should_1\n",
      "Selfsubstantial_4 thereby_2 rose_1 his_1 thereby_2\n",
      "Might_1 tender_2 beautys_2 should_1 beautys_2 by_1 time_1\n",
      "As_1 thy_1 fairest_2 ,_0 :_0 rose_1 time_1 beautys_2 ,_0 his_1 bear_1\n",
      "Fuel_1 his_1 might_1 lies_1 ,_0 time_1 :_0 ,_0 his_1 decease_2 heir_1 time_1\n",
      "Where_1 thereby_2 by_1 memory_3 never_2 foe_1\n"
     ]
    }
   ],
   "source": [
    "print('Sample Sentences:\\n====================')\n",
    "for idx in range(14):\n",
    "    print(sample_sentence(hmm10, obs_map, print_syllable = True, n_syllable=10))"
   ]
  },
  {
   "cell_type": "markdown",
   "metadata": {},
   "source": [
    "## 6 - Poetry generation, part II - RNN"
   ]
  },
  {
   "cell_type": "code",
   "execution_count": null,
   "metadata": {},
   "outputs": [],
   "source": []
  },
  {
   "cell_type": "code",
   "execution_count": null,
   "metadata": {},
   "outputs": [],
   "source": []
  }
 ],
 "metadata": {
  "kernelspec": {
   "display_name": "Python 3",
   "language": "python",
   "name": "python3"
  },
  "language_info": {
   "codemirror_mode": {
    "name": "ipython",
    "version": 3
   },
   "file_extension": ".py",
   "mimetype": "text/x-python",
   "name": "python",
   "nbconvert_exporter": "python",
   "pygments_lexer": "ipython3",
   "version": "3.6.8"
  }
 },
 "nbformat": 4,
 "nbformat_minor": 2
}
